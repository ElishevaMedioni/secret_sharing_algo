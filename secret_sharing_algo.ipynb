{
  "nbformat": 4,
  "nbformat_minor": 0,
  "metadata": {
    "colab": {
      "provenance": [],
      "include_colab_link": true
    },
    "kernelspec": {
      "name": "python3",
      "display_name": "Python 3"
    },
    "language_info": {
      "name": "python"
    }
  },
  "cells": [
    {
      "cell_type": "markdown",
      "metadata": {
        "id": "view-in-github",
        "colab_type": "text"
      },
      "source": [
        "<a href=\"https://colab.research.google.com/github/ElishevaMedioni/secret_sharing_algo/blob/main/secret_sharing_algo.ipynb\" target=\"_parent\"><img src=\"https://colab.research.google.com/assets/colab-badge.svg\" alt=\"Open In Colab\"/></a>"
      ]
    },
    {
      "cell_type": "markdown",
      "source": [
        "#Protection of multicast scalable video by secret sharing: simulation results"
      ],
      "metadata": {
        "id": "CD7i_RTvzTDz"
      }
    },
    {
      "cell_type": "markdown",
      "source": [
        "Professional Seminar in Data Science\n",
        "\n",
        "Dr Guy Kelman\n",
        "\n",
        "Protection of multicast scalable video by secret sharing\n",
        "\n",
        "Elisheva Medioni Amar – 337628390\n",
        "\n",
        "Hila Avraham - 209290246\n",
        "\n"
      ],
      "metadata": {
        "id": "AA71p37ItxlU"
      }
    },
    {
      "cell_type": "code",
      "execution_count": 1,
      "metadata": {
        "id": "kcT1DZt8y98g"
      },
      "outputs": [],
      "source": [
        "import random\n",
        "from math import ceil\n",
        "from decimal import Decimal\n",
        "\n",
        "\n",
        "def reconstruct_secret(shares):\n",
        "    \"\"\"\n",
        "    Combines individual shares (points on graph)\n",
        "    using Lagrange's interpolation.\n",
        "\n",
        "    `shares` is a list of points (x, y) belonging to a\n",
        "    polynomial with a constant of our key.\n",
        "    \"\"\"\n",
        "    sums = Decimal(0)\n",
        "    for j, share_j in enumerate(shares):\n",
        "        xj, yj = share_j\n",
        "        prod = Decimal(1)\n",
        "        for i, share_i in enumerate(shares):\n",
        "            xi, _ = share_i\n",
        "            if i != j:\n",
        "                prod *= Decimal(xi) / (xi - xj)\n",
        "        sums += yj * prod\n",
        "\n",
        "    return int(sums)\n",
        "\n",
        "\n",
        "def polynom(x, coefficients):\n",
        "    \"\"\"\n",
        "    This generates a single point on the graph of given polynomial\n",
        "    in `x`. The polynomial is given by the list of `coefficients`.\n",
        "    \"\"\"\n",
        "    point = 0\n",
        "    for coefficient_index, coefficient_value in enumerate(coefficients[::-1]):\n",
        "        point += x ** coefficient_index * coefficient_value\n",
        "    return point\n",
        "\n",
        "\n",
        "def coeff(t, secret):\n",
        "    \"\"\"\n",
        "    Randomly generate a list of coefficients for a polynomial with\n",
        "    degree of `t` - 1, whose constant is `secret`.\n",
        "    \"\"\"\n",
        "    coefficients = [random.randrange(0, 256) for _ in range(t - 1)]\n",
        "    coefficients.append(secret)\n",
        "    return coefficients\n",
        "\n",
        "\n",
        "def generate_shares(n, m, secret):\n",
        "    \"\"\"\n",
        "    Split given `secret` into `n` shares with a minimum threshold\n",
        "    of `m` shares to recover this `secret`, using SSS algorithm.\n",
        "    \"\"\"\n",
        "    coefficients = coeff(m, secret)\n",
        "    shares = []\n",
        "\n",
        "    for i in range(1, n + 1):\n",
        "        x = random.randrange(1, 256)\n",
        "        shares.append((x, polynom(x, coefficients)))\n",
        "\n",
        "    return shares\n",
        "\n",
        "\n",
        "def encrypt(plaintext, key):\n",
        "    \"\"\"\n",
        "    Encrypts the plaintext using a simple XOR encryption algorithm\n",
        "    with the given key.\n",
        "    \"\"\"\n",
        "    encrypted_text = [char ^ key for char in plaintext]\n",
        "    return encrypted_text\n",
        "\n",
        "\n",
        "def decrypt(ciphertext, key):\n",
        "    \"\"\"\n",
        "    Decrypts the ciphertext using a simple XOR encryption algorithm\n",
        "    with the given key.\n",
        "    \"\"\"\n",
        "    decrypted_text = [char ^ key for char in ciphertext]\n",
        "    return decrypted_text\n"
      ]
    },
    {
      "cell_type": "code",
      "source": [
        "def find_quadratic_equation(points):\n",
        "  if len(points) != 3:\n",
        "      raise ValueError(\"Exactly three points are required.\")\n",
        "\n",
        "  x1, y1 = points[0]\n",
        "  x2, y2 = points[1]\n",
        "  x3, y3 = points[2]\n",
        "\n",
        "  denominator = (x1 - x2) * (x1 - x3) * (x2 - x3)\n",
        "  a = (x3 * (y2 - y1) + x2 * (y1 - y3) + x1 * (y3 - y2)) / denominator\n",
        "  b = (x3**2 * (y1 - y2) + x2**2 * (y3 - y1) + x1**2 * (y2 - y3)) / denominator\n",
        "  c = (x2 * x3 * (x2 - x3) * y1 + x3 * x1 * (x3 - x1) * y2 + x1 * x2 * (x1 - x2) * y3) / denominator\n",
        "\n",
        "  return a, b, c"
      ],
      "metadata": {
        "id": "qxOSaGkA02vV"
      },
      "execution_count": 2,
      "outputs": []
    },
    {
      "cell_type": "markdown",
      "source": [
        "##The Simulation"
      ],
      "metadata": {
        "id": "sgRmkwM11sA2"
      }
    },
    {
      "cell_type": "code",
      "source": [
        "# (3, 5) sharing scheme\n",
        "t, n = 3, 5\n",
        "secret = 1234\n",
        "print(f'Original Secret: {secret}')\n",
        "\n",
        "# Phase I: Generation of shares\n",
        "shares = generate_shares(n, t, secret)\n",
        "print(f'Shares: {\", \".join(str(share) for share in shares)}')\n",
        "\n",
        "# Phase II: Secret Reconstruction\n",
        "# Picking t shares randomly for reconstruction\n",
        "pool = random.sample(shares, t)\n",
        "print(f'Combining shares: {\", \".join(str(share) for share in pool)}')\n",
        "reconstructed_secret = reconstruct_secret(pool)\n",
        "print(f'Reconstructed secret: {reconstructed_secret}')\n",
        "\n",
        "# Encryption\n",
        "plaintext = \"Hello, World!\"\n",
        "numerical_plaintext = [ord(char) for char in plaintext]\n",
        "\n",
        "# Perform encryption\n",
        "encrypted_text = encrypt(numerical_plaintext, reconstructed_secret)\n",
        "print(\"Encrypted Text:\", encrypted_text)\n",
        "\n",
        "# Decryption\n",
        "decrypted_text = decrypt(encrypted_text, reconstructed_secret)\n",
        "decrypted_plaintext = ''.join(chr(char) for char in decrypted_text)\n",
        "print(\"Decrypted Plaintext:\", decrypted_plaintext)"
      ],
      "metadata": {
        "colab": {
          "base_uri": "https://localhost:8080/"
        },
        "id": "JYdrskEpz_W3",
        "outputId": "2b71fee0-425e-4835-dc3b-bba98c7e3d7e"
      },
      "execution_count": null,
      "outputs": [
        {
          "output_type": "stream",
          "name": "stdout",
          "text": [
            "Original Secret: 1234\n",
            "Shares: (48, 171010), (204, 3014110), (210, 3193444), (138, 1383580), (218, 3440620)\n",
            "Combining shares: (210, 3193444), (138, 1383580), (218, 3440620)\n",
            "Reconstructed secret: 1234\n",
            "Encrypted Text: [1178, 1207, 1214, 1214, 1213, 1278, 1266, 1157, 1213, 1184, 1214, 1206, 1267]\n",
            "Decrypted Plaintext: Hello, World!\n"
          ]
        }
      ]
    },
    {
      "cell_type": "code",
      "source": [
        "t, n = 3, 5\n",
        "secret = 1234\n",
        "print(f'Original Secret: {secret}')\n",
        "\n",
        "shares = generate_shares(n, t, secret)\n",
        "print(f'Shares: {\", \".join(str(share) for share in shares)}')\n",
        "\n",
        "pool = random.sample(shares, t)\n",
        "print(f'Combining shares: {\", \".join(str(share) for share in pool)}')\n",
        "reconstructed_secret = reconstruct_secret(pool)\n",
        "print(f'Reconstructed secret: {reconstructed_secret}')\n",
        "\n",
        "# Read content from the txt file\n",
        "input_file = '/content/sample-2mb-text-file.txt'\n",
        "with open(input_file, 'r') as file:\n",
        "    plaintext = file.read()\n",
        "\n",
        "# Convert plaintext to numerical form\n",
        "numerical_plaintext = [ord(char) for char in plaintext]\n",
        "\n",
        "# Perform encryption\n",
        "encrypted_text = encrypt(numerical_plaintext, reconstructed_secret)\n",
        "\n",
        "# Write the encrypted content to a new file\n",
        "output_file = 'encrypted.txt'\n",
        "with open(output_file, 'w') as file:\n",
        "    file.write(' '.join(map(str, encrypted_text)))\n",
        "\n",
        "# Decryption\n",
        "decrypted_text = decrypt(encrypted_text, reconstructed_secret)\n",
        "decrypted_plaintext = ''.join(chr(char) for char in decrypted_text)\n",
        "\n",
        "# Check if encrypted and decrypted texts are the same\n",
        "if numerical_plaintext == decrypted_text:\n",
        "    print(\"Encryption and Decryption Successful!\")\n",
        "else:\n",
        "    print(\"Encryption and Decryption Failed!\")\n",
        "\n",
        "# Optionally, save the decrypted plaintext to a file\n",
        "decrypted_output_file = 'decrypted.txt'\n",
        "with open(decrypted_output_file, 'w') as file:\n",
        "    file.write(decrypted_plaintext)\n"
      ],
      "metadata": {
        "colab": {
          "base_uri": "https://localhost:8080/"
        },
        "id": "_XwpSr6iQuw7",
        "outputId": "bcc7ce77-fb95-41a5-a30f-14ba13a711c3"
      },
      "execution_count": 5,
      "outputs": [
        {
          "output_type": "stream",
          "name": "stdout",
          "text": [
            "Original Secret: 1234\n",
            "Shares: (124, 1060318), (37, 98359), (232, 3686554), (178, 2175148), (241, 3977011)\n",
            "Combining shares: (241, 3977011), (124, 1060318), (178, 2175148)\n",
            "Reconstructed secret: 1234\n",
            "Encryption and Decryption Successful!\n"
          ]
        }
      ]
    },
    {
      "cell_type": "code",
      "source": [
        "import matplotlib.pyplot as plt\n",
        "import pandas as pd\n",
        "import numpy as np\n",
        "\n",
        "# Extract x and y values from shares for plotting\n",
        "x_values = [x for x, _ in shares]\n",
        "y_values = [y for _, y in shares]\n",
        "\n",
        "# Plot the shares graph\n",
        "plt.scatter(x_values, y_values, color='blue', label='Shares')\n",
        "plt.xlabel('x')\n",
        "plt.ylabel('y')\n",
        "plt.title('Shares Graph')\n",
        "plt.legend()\n",
        "plt.show()\n",
        "\n",
        "pool = random.sample(shares, t)\n",
        "pool_x_values = [x for x, _ in pool]\n",
        "pool_y_values = [y for _, y in pool]\n",
        "\n",
        "points = list(zip(pool_x_values, pool_y_values))\n",
        "a, b, c = find_quadratic_equation(points)  # Unpack the coefficients\n",
        "equation = f\"y = {a:.2f}x^2 + {b:.2f}x + {c:.2f}\"\n",
        "print(equation)\n",
        "\n",
        "# Plotting the graph\n",
        "x = np.linspace(min(pool_x_values) - 10, max(pool_x_values) + 10, 100)\n",
        "y = a * x**2 + b * x + c\n",
        "\n",
        "plt.plot(x, y, label=equation)\n",
        "plt.scatter(pool_x_values, pool_y_values, color='red', label='Data Points')\n",
        "plt.xlabel('x')\n",
        "plt.ylabel('y')\n",
        "plt.legend()\n",
        "plt.grid(True)\n",
        "plt.title('Combining Shares Graph')\n",
        "plt.show()\n",
        "\n",
        "# Create a table with x and y values of the shares\n",
        "table_data = {'x': x_values, 'y': y_values}\n",
        "df = pd.DataFrame(table_data)\n",
        "print(df)"
      ],
      "metadata": {
        "colab": {
          "base_uri": "https://localhost:8080/",
          "height": 1000
        },
        "id": "ENLj2ucR1L28",
        "outputId": "5021b358-6009-4020-afb8-a6fcfbacfd20"
      },
      "execution_count": null,
      "outputs": [
        {
          "output_type": "display_data",
          "data": {
            "text/plain": [
              "<Figure size 640x480 with 1 Axes>"
            ],
            "image/png": "[encoded data removed]"
          },
          "metadata": {}
        },
        {
          "output_type": "stream",
          "name": "stdout",
          "text": [
            "y = 72.00x^2 + 81.00x + 1234.00\n"
          ]
        },
        {
          "output_type": "display_data",
          "data": {
            "text/plain": [
              "<Figure size 640x480 with 1 Axes>"
            ],
            "image/png": "[encoded data removed]"
          },
          "metadata": {}
        },
        {
          "output_type": "stream",
          "name": "stdout",
          "text": [
            "     x        y\n",
            "0   48   171010\n",
            "1  204  3014110\n",
            "2  210  3193444\n",
            "3  138  1383580\n",
            "4  218  3440620\n"
          ]
        }
      ]
    },
    {
      "cell_type": "code",
      "source": [],
      "metadata": {
        "id": "qb_5ON7tO4ML"
      },
      "execution_count": null,
      "outputs": []
    }
  ]
}